{
 "cells": [
  {
   "cell_type": "markdown",
   "metadata": {},
   "source": [
    "# CZ3006/CE3005 Assignment 1"
   ]
  },
  {
   "cell_type": "markdown",
   "metadata": {},
   "source": [
    "## Import Libraries"
   ]
  },
  {
   "cell_type": "code",
   "execution_count": 1,
   "metadata": {},
   "outputs": [
    {
     "name": "stdout",
     "output_type": "stream",
     "text": [
      "Requirement already satisfied: plotly in /home/wtt/anaconda3/lib/python3.7/site-packages (4.5.4)\r\n",
      "Requirement already satisfied: retrying>=1.3.3 in /home/wtt/anaconda3/lib/python3.7/site-packages (from plotly) (1.3.3)\r\n",
      "Requirement already satisfied: six in /home/wtt/anaconda3/lib/python3.7/site-packages (from plotly) (1.13.0)\r\n"
     ]
    }
   ],
   "source": [
    "!pip install plotly\n",
    "import math\n",
    "import random\n",
    "from datetime import datetime\n",
    "from math import factorial, log10, pow\n",
    "\n",
    "import numpy as np\n",
    "import pandas as pd\n",
    "import plotly.express as px\n",
    "import plotly.graph_objects as go\n",
    "from matplotlib import pyplot as plt\n",
    "from numpy import exp"
   ]
  },
  {
   "cell_type": "code",
   "execution_count": 2,
   "metadata": {},
   "outputs": [],
   "source": [
    "SAVE_TO_CSV = True\n",
    "ORIGINAL_GRAPH_CSV_PATH = \"protocols_generated_points_original.csv\"\n",
    "NEW_GRAPH_CSV_PATH = \"protocols_generated_points_new.csv\""
   ]
  },
  {
   "cell_type": "markdown",
   "metadata": {},
   "source": [
    "## Utils"
   ]
  },
  {
   "cell_type": "code",
   "execution_count": 3,
   "metadata": {},
   "outputs": [],
   "source": [
    "# Global Variables\n",
    "count = 0\n",
    "NO_OF_DATAPOINTS = 0\n",
    "\n",
    "def log_msg(message):\n",
    "    time = datetime.now()\n",
    "    print(\"[\" + time.strftime(\"%Y-%m-%d %H:%M:%S\") + \"] \" + str(message)); return time\n",
    "\n",
    "def generate_datapoints(no_of_points, limit=100, degree_of_accuracy=5):\n",
    "    step = limit/no_of_points\n",
    "    x = [round(i, degree_of_accuracy) for i in np.arange(0, limit+step, step)]\n",
    "    return x[1:]\n",
    "\n",
    "def generate_log_datapoints(step, min_=0.01, limit_=100, degree_of_accuracy=5):\n",
    "    start = log10(min_)\n",
    "    end = log10(limit_) + step\n",
    "    supercripts = list(np.arange(start, end, step))\n",
    "    result = [round(10**supercript, degree_of_accuracy) for supercript in supercripts]\n",
    "    return (result, len(result))"
   ]
  },
  {
   "cell_type": "markdown",
   "metadata": {},
   "source": [
    "## Smallest precision possible for python's float datatype"
   ]
  },
  {
   "cell_type": "code",
   "execution_count": 4,
   "metadata": {},
   "outputs": [
    {
     "name": "stdout",
     "output_type": "stream",
     "text": [
      "Maximum precision of python float datatype is 10^-324\n",
      "1e-323\n"
     ]
    }
   ],
   "source": [
    "i = 0\n",
    "error_margin = 10\n",
    "while (error_margin != 0):\n",
    "    temp = i * -1\n",
    "    error_margin = float(pow(10, temp))\n",
    "    i += 1\n",
    "print(\"Maximum precision of python float datatype is 10^-\" + str(i-1))\n",
    "\n",
    "ERROR_MARGIN = float(10E-324)\n",
    "print(ERROR_MARGIN)"
   ]
  },
  {
   "cell_type": "markdown",
   "metadata": {},
   "source": [
    "## Supporting Functions"
   ]
  },
  {
   "cell_type": "code",
   "execution_count": 5,
   "metadata": {},
   "outputs": [],
   "source": [
    "def pi_n(G, n, a):\n",
    "    assert n>=0\n",
    "    var1 = exp((1+a)*-G)\n",
    "    if (n==0):\n",
    "        return var1\n",
    "    return pow((1+a)*G, n)/factorial(n) * var1\n",
    "\n",
    "def pi_n_prime(G, n, a):\n",
    "    assert n>=1\n",
    "    g = a*G\n",
    "    exp_neg_g = exp(-g)\n",
    "    return (pow(g,n)/factorial(n))*(exp_neg_g/(1-exp_neg_g))\n",
    "\n",
    "def prob_tn_equals_k(G, n, k, a, p):\n",
    "    g = a * G # Average arrival rate of new/rescheduled packets during a (mini) slot\n",
    "    q = 1 - p # Prob that medium is busy, therefore continually listen until idle\n",
    "    \n",
    "     # Special case when k==0\n",
    "    if k==0:\n",
    "        return 1 - pow(q, n)\n",
    "    first_term = pow(q, k*n) * (1 - pow(q, n)*exp(-g*(1-pow(q, k))))\n",
    "    second_term = exp(g*(q*(1-pow(q, k-1))/p - (k-1)))\n",
    "    return first_term * second_term\n",
    "\n",
    "# Probability of 2 successive TP in same busy period after n slots have elapsed\n",
    "def prob_tn_more_than_k(G, n, k, a, p):\n",
    "    g = a * G # Average arrival rate of new/rescheduled packets during a (mini) slot\n",
    "    q = 1 - p # Prob that medium is busy, therefore continually listen until idle\n",
    "    \n",
    "     # Special case when a==0\n",
    "    if a==0:\n",
    "        return pow(q, (k+1)*n)\n",
    "    return pow(q, (k+1)*n) * exp(g*(q*(1-pow(q, k))/p - k))\n",
    "    \n",
    "def t_bar_n(G, n, a, p):\n",
    "    if a==0:\n",
    "        q_n = exp(q, n)\n",
    "        return q_n/(1-q_n)\n",
    "    k = 0\n",
    "    result = 0\n",
    "    nxt_term = prob_tn_more_than_k(G, n, k, a=a, p=p)\n",
    "    while (nxt_term > ERROR_MARGIN):\n",
    "        try:\n",
    "            nxt_term = prob_tn_more_than_k(G, n, k, a=a, p=p)\n",
    "            result += nxt_term\n",
    "            k += 1\n",
    "        except:\n",
    "            break\n",
    "    return result\n",
    "    \n",
    "def tbar(G, a, p):\n",
    "    n = 1\n",
    "    result = 0\n",
    "    pi_n0 = pi_n(G, 0, a)\n",
    "    nxt_term = t_bar_n(G, n, a, p) * (pi_n(G, n, a)/(1-pi_n0))\n",
    "    while (nxt_term > ERROR_MARGIN):\n",
    "        try:\n",
    "            nxt_term = t_bar_n(G, n, a, p) * (pi_n(G, n, a)/(1-pi_n0))\n",
    "            result += nxt_term\n",
    "            n += 1\n",
    "        except:\n",
    "            break\n",
    "    return result"
   ]
  },
  {
   "cell_type": "code",
   "execution_count": 6,
   "metadata": {},
   "outputs": [],
   "source": [
    "def kronecker_delta(l, n):\n",
    "    if l==n:\n",
    "        return 1\n",
    "    return 0    \n",
    "\n",
    "# FIXME!\n",
    "def prob_ln_equal_l(G, n, l, a, p):\n",
    "    assert l >= n\n",
    "    g = a * G\n",
    "    q = 1 - p\n",
    "    k = 1\n",
    "    result = 0\n",
    "    nxt_term = (pow(k*g, l-n)/factorial(l-n)) * exp(-k * g) * prob_tn_equals_k(G, n, k, a, p)\n",
    "    while (nxt_term > ERROR_MARGIN):\n",
    "        try:\n",
    "            nxt_term = (pow(k*g, l-n)/factorial(l-n)) * exp(-k * g) * prob_tn_equals_k(G, n, k, a, p)\n",
    "            result += nxt_term\n",
    "            k += 1\n",
    "        except:\n",
    "            break\n",
    "    return result + ((1 - pow(q, n)) * kronecker_delta(l, n))\n",
    "\n",
    "def p_s_n(G, n, a, p):\n",
    "    l = n\n",
    "    q = 1 - p\n",
    "    result = 0\n",
    "    nxt_term = (l * p * pow(q, l-1))/(1-pow(q, l)) * prob_ln_equal_l(G, n, l, a, p)\n",
    "    while (nxt_term > ERROR_MARGIN):\n",
    "        try:            \n",
    "            nxt_term = (l * p * pow(q, l-1))/(1-pow(q, l)) * prob_ln_equal_l(G, n, l, a, p)\n",
    "            result += nxt_term\n",
    "            l += 1\n",
    "        except:\n",
    "            break\n",
    "    return result\n",
    "    \n",
    "    \n",
    "def p_s(G, a, p):\n",
    "    n = 1\n",
    "    result = 0\n",
    "    pi_n0 = pi_n(G, 0, a)\n",
    "    nxt_term = p_s_n(G, n, a, p) * pi_n(G, n, a)/(1-pi_n0)\n",
    "    while (nxt_term > ERROR_MARGIN):\n",
    "        try:\n",
    "            nxt_term = p_s_n(G, n, a, p) * pi_n(G, n, a)/(1-pi_n0)\n",
    "            result += nxt_term\n",
    "            n += 1\n",
    "        except:\n",
    "            break\n",
    "    return result\n",
    "    \n",
    "def p_s_prime(G, a, p):\n",
    "    n = 1\n",
    "    result = 0\n",
    "    nxt_term = p_s_n(G, n, a, p) * pi_n_prime(G, n, a)\n",
    "    while (nxt_term > ERROR_MARGIN):\n",
    "        try:\n",
    "            nxt_term = p_s_n(G, n, a, p) * pi_n_prime(G, n, a)\n",
    "            result += nxt_term\n",
    "            n += 1\n",
    "        except:\n",
    "            break\n",
    "    return result\n",
    "    \n",
    "def tbar_prime(G, a, p):\n",
    "    n = 1\n",
    "    result = 0\n",
    "    nxt_term = t_bar_n(G, n, a, p) * pi_n_prime(G, n, a)\n",
    "    while (nxt_term > ERROR_MARGIN):\n",
    "        try:\n",
    "            nxt_term = t_bar_n(G, n, a, p) * pi_n_prime(G, n, a)\n",
    "            result += nxt_term\n",
    "            n += 1\n",
    "        except:\n",
    "            break\n",
    "    return result"
   ]
  },
  {
   "cell_type": "markdown",
   "metadata": {},
   "source": [
    "## Protocols"
   ]
  },
  {
   "cell_type": "code",
   "execution_count": 7,
   "metadata": {},
   "outputs": [],
   "source": [
    "# Parameters:\n",
    "ERROR_MARGIN = 10E-324\n",
    "NORMALIZED_PROPAGATION_DELAY = 0.01\n",
    "PROB_MEDIUM_IS_IDLE = 0.1 # Prob to transmit\n",
    "\n",
    "# Dictionary:\n",
    "# Initial Random Transmission Delay (IRTD)\n",
    "# Transmission Point (TP)\n",
    "\n",
    "def slotted_aloha(G):\n",
    "    return G * exp(-G)\n",
    "\n",
    "def pure_aloha(G):\n",
    "    return G * exp(-2*G)\n",
    "\n",
    "def non_persistent_csma(G, \n",
    "                        a=PROB_MEDIUM_IS_IDLE):\n",
    "    numerator = G * exp(-a*G)\n",
    "    denominator = G * (1+2*a) + exp(-a*G)\n",
    "    return numerator/denominator\n",
    "\n",
    "def one_persistent_csma(G, \n",
    "                        a=PROB_MEDIUM_IS_IDLE):\n",
    "    numerator = G * sum([1, G, a*G*sum([1, G, G/2])]) * exp(-G*(1+2*a))\n",
    "    denominator = sum([G*(1+2*a), -(1-exp(-a*G)), (1+a*G)*exp(-G*(1+a))])\n",
    "    return numerator/denominator\n",
    "\n",
    "def p_persistent_csma(G, \n",
    "                      a=NORMALIZED_PROPAGATION_DELAY, \n",
    "                      p=PROB_MEDIUM_IS_IDLE):\n",
    "    Ps = p_s(G, a, p)\n",
    "    pi_n_0 = pi_n(G, 0, a)\n",
    "    \n",
    "    if (p==1) and (a==0):\n",
    "        numerator = G * (1+G) * exp(-G)\n",
    "        denominator = G + exp(-G)\n",
    "        return numerator/denominator\n",
    "    if (a==0):\n",
    "        numerator = G * sum([pi_n_0, (1-pi_n_0)*Ps])\n",
    "        denominator = G + pi_n_0\n",
    "        return numerator/denominator\n",
    "    \n",
    "    Ps_prime = p_s_prime(G, a, p)\n",
    "    t_bar_prime = tbar_prime(G, a, p)\n",
    "    t_bar = tbar(G, a, p)\n",
    "    \n",
    "    const1 = 1 - exp(-a*G)\n",
    "    const2 = 1 - pi_n_0\n",
    "    numerator = const1 * sum([Ps_prime*pi_n_0, Ps*const2])\n",
    "    denominator = const1 * sum([a*t_bar_prime*pi_n_0, a*t_bar*const2, 1, a]) + a*pi_n_0\n",
    "    result = numerator/denominator\n",
    "    \n",
    "    global count, NO_OF_DATAPOINTS\n",
    "    if count%40==0:\n",
    "        percentage_completed = round(count/NO_OF_DATAPOINTS*100, 2)\n",
    "        msg = f\"{percentage_completed}% completed\\t| G = {G}\\t| {result}\"        \n",
    "        log_msg(msg)\n",
    "    count +=1\n",
    "    return result"
   ]
  },
  {
   "cell_type": "markdown",
   "metadata": {},
   "source": [
    "## Plot Original Graph (a=0.01, p=0.1)"
   ]
  },
  {
   "cell_type": "code",
   "execution_count": null,
   "metadata": {
    "scrolled": false
   },
   "outputs": [
    {
     "name": "stdout",
     "output_type": "stream",
     "text": [
      "[2020-04-02 17:11:38] 0.0% completed\t| G = 0.01\t| 0.009989485705487681\n"
     ]
    }
   ],
   "source": [
    "if SAVE_TO_CSV:\n",
    "    count = 0\n",
    "    X = \"Offered Load (G)\"\n",
    "    \n",
    "    DF_original = pd.DataFrame()\n",
    "    DF_original[X], NO_OF_DATAPOINTS = generate_log_datapoints(step=0.01, min_=0.01, limit_=100)\n",
    "    DF_original[\"slotted_aloha\"] = DF_original[X].apply(lambda x : slotted_aloha(x))\n",
    "    DF_original[\"pure_aloha\"] = DF_original[X].apply(lambda x : pure_aloha(x))\n",
    "    DF_original[\"non_persistent_csma\"] = DF_original[X].apply(lambda x : non_persistent_csma(x, NORMALIZED_PROPAGATION_DELAY))\n",
    "    DF_original[\"one_persistent_csma\"] = DF_original[X].apply(lambda x : one_persistent_csma(x, NORMALIZED_PROPAGATION_DELAY))\n",
    "    DF_original[\"p_persistent_csma\"] = DF_original[X].apply(lambda x : p_persistent_csma(x, NORMALIZED_PROPAGATION_DELAY, PROB_MEDIUM_IS_IDLE))\n",
    "\n",
    "    DF_original.to_csv(ORIGINAL_GRAPH_CSV_PATH, index=False)\n",
    "else:\n",
    "    try:\n",
    "        DF_original = pd.read_csv(ORIGINAL_GRAPH_CSV_PATH)\n",
    "    except:\n",
    "        raise SystemExit(\"CSV file not available\")\n",
    "    \n",
    "DF_original"
   ]
  },
  {
   "cell_type": "code",
   "execution_count": null,
   "metadata": {},
   "outputs": [],
   "source": [
    "X = \"Offered Load (G)\"\n",
    "\n",
    "fig, ax1 = plt.subplots(figsize=(12, 6), tight_layout = True)\n",
    "for idx, protocol in enumerate(DF_original.columns):\n",
    "    if protocol == X:\n",
    "        continue\n",
    "    plt.plot(DF_original[X], DF_original[protocol], label=protocol)\n",
    "\n",
    "title = f\"Throughput for various access modes (a={NORMALIZED_PROPAGATION_DELAY}, p={PROB_MEDIUM_IS_IDLE})\"\n",
    "ax1.set_xscale(\"log\")\n",
    "ax1.set_xlabel(\"G (Offered Channel Traffic)\")\n",
    "ax1.set_ylabel(\"S (Throughput)\")\n",
    "ax1.set_title(title, fontsize=16)\n",
    "plt.legend()\n",
    "plt.show()"
   ]
  },
  {
   "cell_type": "markdown",
   "metadata": {},
   "source": [
    "## Plot New Graph (a=0.05, p=0.15)"
   ]
  },
  {
   "cell_type": "code",
   "execution_count": 11,
   "metadata": {},
   "outputs": [],
   "source": [
    "# New Parameters:\n",
    "ERROR_MARGIN = 10E-324\n",
    "NORMALIZED_PROPAGATION_DELAY = 0.05\n",
    "PROB_MEDIUM_IS_IDLE = 0.15 # Prob to transmit"
   ]
  },
  {
   "cell_type": "code",
   "execution_count": null,
   "metadata": {},
   "outputs": [
    {
     "name": "stdout",
     "output_type": "stream",
     "text": [
      "[2020-04-02 16:10:14] G = 0.012302687708123818\t| 0.012251478310765698\n",
      "[2020-04-02 16:13:46] G = 0.01548816618912482\t| 0.015406700485995942\n",
      "[2020-04-02 16:16:48] G = 0.019498445997580466\t| 0.0193687304472335\n",
      "[2020-04-02 16:20:47] G = 0.024547089156850322\t| 0.02434031950039288\n",
      "[2020-04-02 16:24:02] G = 0.030902954325135935\t| 0.03057292089038482\n",
      "[2020-04-02 16:27:26] G = 0.038904514499428104\t| 0.0383769000780866\n",
      "[2020-04-02 16:31:25] G = 0.048977881936844686\t| 0.048132830385024986\n",
      "[2020-04-02 16:35:38] G = 0.06165950018614832\t| 0.060303125105297846\n",
      "[2020-04-02 16:39:48] G = 0.07762471166286931\t| 0.07544239321109812\n",
      "[2020-04-02 16:44:16] G = 0.09772372209558126\t| 0.09420342713137086\n",
      "[2020-04-02 16:48:32] G = 0.12302687708123843\t| 0.11733333669976014\n",
      "[2020-04-02 16:53:17] G = 0.15488166189124852\t| 0.14565074889091242\n",
      "[2020-04-02 16:58:13] G = 0.19498445997580505\t| 0.1799902254142597\n",
      "[2020-04-02 17:02:31] G = 0.24547089156850374\t| 0.22109516394894746\n",
      "[2020-04-02 17:06:46] G = 0.30902954325136\t| 0.2694388559738458\n"
     ]
    }
   ],
   "source": [
    "if SAVE_TO_CSV:\n",
    "    count = 0\n",
    "    X = \"Offered Load (G)\"\n",
    "    \n",
    "    DF_new = pd.DataFrame()\n",
    "    DF_new[X], NO_OF_DATAPOINTS = generate_log_datapoints(step=0.01, min_=0.01, limit_=100)\n",
    "    DF_new[\"slotted_aloha\"] = DF_new[X].apply(lambda x : slotted_aloha(x))\n",
    "    DF_new[\"pure_aloha\"] = DF_new[X].apply(lambda x : pure_aloha(x))\n",
    "    DF_new[\"non_persistent_csma\"] = DF_new[X].apply(lambda x : non_persistent_csma(x, NORMALIZED_PROPAGATION_DELAY))\n",
    "    DF_new[\"one_persistent_csma\"] = DF_new[X].apply(lambda x : one_persistent_csma(x, NORMALIZED_PROPAGATION_DELAY))\n",
    "    DF_new[\"p_persistent_csma\"] = DF_new[X].apply(lambda x : p_persistent_csma(x, NORMALIZED_PROPAGATION_DELAY, PROB_MEDIUM_IS_IDLE))\n",
    "\n",
    "    DF_new.to_csv(NEW_GRAPH_CSV_PATH, index=False)\n",
    "else:\n",
    "    try:\n",
    "        DF_new = pd.read_csv(NEW_GRAPH_CSV_PATH)\n",
    "    except:\n",
    "        raise SystemExit(\"CSV file not available\")\n",
    "    \n",
    "DF_new"
   ]
  },
  {
   "cell_type": "code",
   "execution_count": null,
   "metadata": {},
   "outputs": [],
   "source": [
    "X = \"Offered Load (G)\"\n",
    "\n",
    "fig, ax1 = plt.subplots(figsize=(12, 6), tight_layout = True)\n",
    "for idx, protocol in enumerate(DF_new.columns):\n",
    "    if protocol == X:\n",
    "        continue\n",
    "    plt.plot(DF_new[X], DF_new[protocol], label=protocol)\n",
    "\n",
    "title = f\"Throughput for various access modes (a={NORMALIZED_PROPAGATION_DELAY}, p={PROB_MEDIUM_IS_IDLE})\"\n",
    "ax1.set_xscale(\"log\")\n",
    "ax1.set_xlabel(\"G (Offered Channel Traffic)\")\n",
    "ax1.set_ylabel(\"S (Throughput)\")\n",
    "ax1.set_title(title, fontsize=16)\n",
    "plt.legend()\n",
    "plt.show()"
   ]
  },
  {
   "cell_type": "markdown",
   "metadata": {},
   "source": [
    "## Interactive Graphs"
   ]
  },
  {
   "cell_type": "code",
   "execution_count": null,
   "metadata": {},
   "outputs": [],
   "source": [
    "DF_original = pd.read_csv(ORIGINAL_GRAPH_CSV_PATH)\n",
    "DF_new = pd.read_csv(NEW_GRAPH_CSV_PATH)"
   ]
  },
  {
   "cell_type": "code",
   "execution_count": null,
   "metadata": {},
   "outputs": [],
   "source": [
    "X = \"Offered Load (G)\"\n",
    "\n",
    "fig = go.Figure()\n",
    "for idx, protocol in enumerate(DF_original.columns):\n",
    "    if protocol == X:\n",
    "        continue\n",
    "    fig.add_trace(go.Scatter(\n",
    "        name=protocol,\n",
    "        x=DF_original[X],\n",
    "        y=DF_original[protocol],\n",
    "        mode=\"lines\",\n",
    "        showlegend=True))\n",
    "\n",
    "title = f\"Throughput for various access modes (a=0.01, p=0.1)\"\n",
    "fig.update_layout(xaxis_type=\"log\",\n",
    "                  title={'text': title,\n",
    "                         'y':0.9,\n",
    "                         'x':0.45,\n",
    "                         'xanchor': 'center',\n",
    "                         'yanchor': 'top'},\n",
    "                  xaxis_title=\"G (Offered Channel Traffic)\",\n",
    "                  yaxis_title=\"S (Throughput)\",)\n",
    "fig.show()"
   ]
  },
  {
   "cell_type": "code",
   "execution_count": null,
   "metadata": {},
   "outputs": [],
   "source": [
    "X = \"Offered Load (G)\"\n",
    "\n",
    "fig = go.Figure()\n",
    "for idx, protocol in enumerate(DF_new.columns):\n",
    "    if protocol == X:\n",
    "        continue\n",
    "    fig.add_trace(go.Scatter(\n",
    "        name=protocol,\n",
    "        x=DF_new[X],\n",
    "        y=DF_new[protocol],\n",
    "        mode=\"lines\",\n",
    "        showlegend=True))\n",
    "\n",
    "title = f\"Throughput for various access modes (a={NORMALIZED_PROPAGATION_DELAY}, p={PROB_MEDIUM_IS_IDLE})\"\n",
    "fig.update_layout(xaxis_type=\"log\",\n",
    "                  title={'text': title,\n",
    "                         'y':0.9,\n",
    "                         'x':0.45,\n",
    "                         'xanchor': 'center',\n",
    "                         'yanchor': 'top'},\n",
    "                  xaxis_title=\"G (Offered Channel Traffic)\",\n",
    "                  yaxis_title=\"S (Throughput)\",)\n",
    "fig.show()"
   ]
  }
 ],
 "metadata": {
  "kernelspec": {
   "display_name": "Python 3",
   "language": "python",
   "name": "python3"
  },
  "language_info": {
   "codemirror_mode": {
    "name": "ipython",
    "version": 3
   },
   "file_extension": ".py",
   "mimetype": "text/x-python",
   "name": "python",
   "nbconvert_exporter": "python",
   "pygments_lexer": "ipython3",
   "version": "3.7.5"
  }
 },
 "nbformat": 4,
 "nbformat_minor": 2
}
